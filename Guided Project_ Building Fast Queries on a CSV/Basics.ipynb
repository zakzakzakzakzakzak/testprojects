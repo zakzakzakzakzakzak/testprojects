{
 "cells": [
  {
   "cell_type": "code",
   "execution_count": 2,
   "metadata": {},
   "outputs": [],
   "source": [
    "import csv\n",
    "\n"
   ]
  },
  {
   "cell_type": "code",
   "execution_count": 3,
   "metadata": {},
   "outputs": [
    {
     "name": "stdout",
     "output_type": "stream",
     "text": [
      "['Id', 'Company', 'Product', 'TypeName', 'Inches', 'ScreenResolution', 'Cpu', 'Ram', 'Memory', 'Gpu', 'OpSys', 'Weight', 'Price']\n",
      "[['6571244', 'Apple', 'MacBook Pro', 'Ultrabook', '13.3', 'IPS Panel Retina Display 2560x1600', 'Intel Core i5 2.3GHz', '8GB', '128GB SSD', 'Intel Iris Plus Graphics 640', 'macOS', '1.37kg', '1339'], ['7287764', 'Apple', 'Macbook Air', 'Ultrabook', '13.3', '1440x900', 'Intel Core i5 1.8GHz', '8GB', '128GB Flash Storage', 'Intel HD Graphics 6000', 'macOS', '1.34kg', '898'], ['3362737', 'HP', '250 G6', 'Notebook', '15.6', 'Full HD 1920x1080', 'Intel Core i5 7200U 2.5GHz', '8GB', '256GB SSD', 'Intel HD Graphics 620', 'No OS', '1.86kg', '575'], ['9722156', 'Apple', 'MacBook Pro', 'Ultrabook', '15.4', 'IPS Panel Retina Display 2880x1800', 'Intel Core i7 2.7GHz', '16GB', '512GB SSD', 'AMD Radeon Pro 455', 'macOS', '1.83kg', '2537'], ['8550527', 'Apple', 'MacBook Pro', 'Ultrabook', '13.3', 'IPS Panel Retina Display 2560x1600', 'Intel Core i5 3.1GHz', '8GB', '256GB SSD', 'Intel Iris Plus Graphics 650', 'macOS', '1.37kg', '1803']]\n"
     ]
    }
   ],
   "source": [
    "opened_file = open('laptops.csv')\n",
    "read_file = csv.reader(opened_file)\n",
    "rows = list(read_file)\n",
    "header = rows[0]\n",
    "rows = rows[1:]\n",
    "print(header)\n",
    "print(rows[:5])\n"
   ]
  },
  {
   "cell_type": "code",
   "execution_count": 4,
   "metadata": {},
   "outputs": [],
   "source": [
    "class inventory():\n",
    "    def __init__(self, csv_filename):\n",
    "        import csv\n",
    "        opened_file = open(csv_filename)\n",
    "        read_file = csv.reader(opened_file)\n",
    "        list_file = list(read_file)\n",
    "        self.header = list_file[0]\n",
    "        for each in list_file[1:]:\n",
    "            each[-1]= int(each[-1])\n",
    "        self.rows = list_file[1:]\n",
    "            \n",
    "        "
   ]
  },
  {
   "cell_type": "code",
   "execution_count": 5,
   "metadata": {},
   "outputs": [],
   "source": [
    "laptops = inventory('laptops.csv')"
   ]
  },
  {
   "cell_type": "code",
   "execution_count": 6,
   "metadata": {},
   "outputs": [
    {
     "name": "stdout",
     "output_type": "stream",
     "text": [
      "1303\n"
     ]
    }
   ],
   "source": [
    "print(len(laptops.rows))"
   ]
  },
  {
   "cell_type": "code",
   "execution_count": 7,
   "metadata": {},
   "outputs": [],
   "source": [
    "class inventory():\n",
    "        def __init__(self, csv_filename):\n",
    "            import csv\n",
    "            opened_file = open(csv_filename)\n",
    "            read_file = csv.reader(opened_file)\n",
    "            list_file = list(read_file)\n",
    "            self.header = list_file[0]\n",
    "            for each in list_file[1:]:\n",
    "                each[-1]= int(each[-1])\n",
    "            self.rows = list_file[1:]\n",
    "            self.id_to_row = {}\n",
    "            for each in self.rows:\n",
    "                self.id_to_row[each[0]]=each[1:]\n",
    "        \n",
    "        def get_laptop_from_id_fast(self,laptop_id):\n",
    "            if laptop_id in self.id_to_row:\n",
    "                return self.id_to_row[laptop_id]\n",
    "            return None\n",
    "            \n",
    "                \n",
    "        def get_laptop_from_id(self,laptop_id):\n",
    "            for row in self.rows:\n",
    "                if row[0]==laptop_id:\n",
    "                    return(row)\n",
    "            \n",
    "            return None\n",
    "        \n",
    "            \n",
    "    "
   ]
  },
  {
   "cell_type": "code",
   "execution_count": 8,
   "metadata": {},
   "outputs": [],
   "source": [
    "laptops = inventory('laptops.csv')\n"
   ]
  },
  {
   "cell_type": "code",
   "execution_count": 9,
   "metadata": {},
   "outputs": [
    {
     "name": "stdout",
     "output_type": "stream",
     "text": [
      "['3362737', 'HP', '250 G6', 'Notebook', '15.6', 'Full HD 1920x1080', 'Intel Core i5 7200U 2.5GHz', '8GB', '256GB SSD', 'Intel HD Graphics 620', 'No OS', '1.86kg', 575]\n"
     ]
    }
   ],
   "source": [
    "print(laptops.get_laptop_from_id('3362737'))"
   ]
  },
  {
   "cell_type": "code",
   "execution_count": 10,
   "metadata": {},
   "outputs": [
    {
     "name": "stdout",
     "output_type": "stream",
     "text": [
      "None\n"
     ]
    }
   ],
   "source": [
    "print(laptops.get_laptop_from_id('3362736'))"
   ]
  },
  {
   "cell_type": "code",
   "execution_count": 11,
   "metadata": {},
   "outputs": [
    {
     "name": "stdout",
     "output_type": "stream",
     "text": [
      "['HP', '250 G6', 'Notebook', '15.6', 'Full HD 1920x1080', 'Intel Core i5 7200U 2.5GHz', '8GB', '256GB SSD', 'Intel HD Graphics 620', 'No OS', '1.86kg', 575]\n"
     ]
    }
   ],
   "source": [
    "print(laptops.get_laptop_from_id_fast('3362737'))"
   ]
  },
  {
   "cell_type": "code",
   "execution_count": 12,
   "metadata": {},
   "outputs": [
    {
     "name": "stdout",
     "output_type": "stream",
     "text": [
      "None\n"
     ]
    }
   ],
   "source": [
    "print(laptops.get_laptop_from_id_fast('3362736'))"
   ]
  },
  {
   "cell_type": "code",
   "execution_count": 13,
   "metadata": {},
   "outputs": [
    {
     "name": "stdout",
     "output_type": "stream",
     "text": [
      "3.532344102859497\n",
      "0\n"
     ]
    }
   ],
   "source": [
    "import time\n",
    "import random\n",
    "values = [random.randint(1000000,9999999) for _ in range(10000)]\n",
    "str_values = str(values)\n",
    "laptops = inventory('laptops.csv')\n",
    "total_time_no_dict = 0\n",
    "total_time_dict = 0\n",
    "for each in str_values:\n",
    "    start = time.time()\n",
    "    laptops.get_laptop_from_id(each)\n",
    "    end = time.time()\n",
    "    total_time_no_dict += end-start\n",
    "\n",
    "for each in str_values:\n",
    "    start = time.time()\n",
    "    laptops.get_laptop_from_id_fast(each)\n",
    "    end = time.time()\n",
    "    total_time_no_dict += end-start\n",
    "    \n",
    "print(total_time_no_dict)\n",
    "print(total_time_dict)\n"
   ]
  },
  {
   "cell_type": "code",
   "execution_count": 14,
   "metadata": {},
   "outputs": [],
   "source": [
    "class inventory():\n",
    "        def __init__(self, csv_filename):\n",
    "            import csv\n",
    "            opened_file = open(csv_filename)\n",
    "            read_file = csv.reader(opened_file)\n",
    "            list_file = list(read_file)\n",
    "            self.header = list_file[0]\n",
    "            for each in list_file[1:]:\n",
    "                each[-1]= int(each[-1])\n",
    "            self.rows = list_file[1:]\n",
    "            self.id_to_row = {}\n",
    "            for each in self.rows:\n",
    "                self.id_to_row[each[0]]=each[1:]\n",
    "            self.prices=set()\n",
    "            for each in self.rows:\n",
    "                self.prices.add(each[-1])\n",
    "            self.rows_by_price=sorted(laptops.rows,key=lambda x:x[-1])\n",
    "    \n",
    "        \n",
    "        def get_laptop_from_id_fast(self,laptop_id):\n",
    "            if laptop_id in self.id_to_row:\n",
    "                return self.id_to_row[laptop_id]\n",
    "            return None\n",
    "            \n",
    "                \n",
    "        def get_laptop_from_id(self,laptop_id):\n",
    "            for row in self.rows:\n",
    "                if row[0]==laptop_id:\n",
    "                    return(row)\n",
    "            return None\n",
    "                \n",
    "        def check_promotion_dollars(self,dollars):\n",
    "            for each in self.rows:\n",
    "                if each[-1]==dollars:\n",
    "                    return True\n",
    "            for i in range(len(self.rows)):\n",
    "                for j in range(i,len(self.rows)):\n",
    "                    if self.rows[i][-1]+self.rows[j][-1] == dollars:\n",
    "                        return True\n",
    "            return False\n",
    "        def check_promotion_dollars_fast(self,dollars):\n",
    "            if dollars in self.prices:\n",
    "                return True\n",
    "            for i in self.prices:\n",
    "                j = dollars - i\n",
    "                if j in self.prices:\n",
    "                    return True\n",
    "            return False\n",
    "            \n",
    "        "
   ]
  },
  {
   "cell_type": "code",
   "execution_count": 15,
   "metadata": {},
   "outputs": [],
   "source": [
    "laptops = inventory('laptops.csv')"
   ]
  },
  {
   "cell_type": "code",
   "execution_count": 16,
   "metadata": {},
   "outputs": [
    {
     "name": "stdout",
     "output_type": "stream",
     "text": [
      "True\n"
     ]
    }
   ],
   "source": [
    "print(laptops.check_promotion_dollars(1000))"
   ]
  },
  {
   "cell_type": "code",
   "execution_count": 17,
   "metadata": {
    "scrolled": true
   },
   "outputs": [
    {
     "name": "stdout",
     "output_type": "stream",
     "text": [
      "False\n"
     ]
    }
   ],
   "source": [
    "print(laptops.check_promotion_dollars(442))"
   ]
  },
  {
   "cell_type": "code",
   "execution_count": 18,
   "metadata": {},
   "outputs": [
    {
     "name": "stdout",
     "output_type": "stream",
     "text": [
      "True\n"
     ]
    }
   ],
   "source": [
    "print(laptops.check_promotion_dollars_fast(1000))"
   ]
  },
  {
   "cell_type": "code",
   "execution_count": 19,
   "metadata": {},
   "outputs": [
    {
     "name": "stdout",
     "output_type": "stream",
     "text": [
      "False\n"
     ]
    }
   ],
   "source": [
    "print(laptops.check_promotion_dollars_fast(442))"
   ]
  },
  {
   "cell_type": "code",
   "execution_count": 20,
   "metadata": {},
   "outputs": [
    {
     "name": "stdout",
     "output_type": "stream",
     "text": [
      "1.286710500717163\n",
      "0.0005204677581787109\n"
     ]
    }
   ],
   "source": [
    "import random\n",
    "import time\n",
    "prices = [random.randint(100,5000) for _ in range(100)]\n",
    "laptops = inventory('laptops.csv')\n",
    "total_time_no_set=0\n",
    "total_time_set=0\n",
    "for each in prices:\n",
    "    start=time.time()\n",
    "    laptops.check_promotion_dollars(each)\n",
    "    end=time.time()\n",
    "    total_time_no_set+=end-start\n",
    "for each in prices:\n",
    "    start=time.time()\n",
    "    laptops.check_promotion_dollars_fast(each)\n",
    "    end=time.time()\n",
    "    total_time_set+=end-start\n",
    "print(total_time_no_set)\n",
    "print(total_time_set)\n",
    "\n"
   ]
  },
  {
   "cell_type": "code",
   "execution_count": 21,
   "metadata": {},
   "outputs": [],
   "source": [
    "## the next cell implements a sorted function into the init method which sorts the database according to laptop price (row[-1]). Then a method is added which uses a search algorithm to determine what subset of the databaseis affordable according to a budget which is provided as an argument."
   ]
  },
  {
   "cell_type": "code",
   "execution_count": 22,
   "metadata": {},
   "outputs": [],
   "source": [
    "class inventory():\n",
    "        def __init__(self, csv_filename):\n",
    "            import csv\n",
    "            opened_file = open(csv_filename)\n",
    "            read_file = csv.reader(opened_file)\n",
    "            list_file = list(read_file)\n",
    "            self.header = list_file[0]\n",
    "            for each in list_file[1:]:\n",
    "                each[-1]= int(each[-1])\n",
    "            self.rows = list_file[1:]\n",
    "            self.id_to_row = {}\n",
    "            for each in self.rows:\n",
    "                self.id_to_row[each[0]]=each[1:]\n",
    "            self.prices=set()\n",
    "            for each in self.rows:\n",
    "                self.prices.add(each[-1])\n",
    "            self.rows_by_price=sorted(laptops.rows,key=lambda x:x[-1])\n",
    "    \n",
    "        \n",
    "        def get_laptop_from_id_fast(self,laptop_id):\n",
    "            if laptop_id in self.id_to_row:\n",
    "                return self.id_to_row[laptop_id]\n",
    "            return None\n",
    "            \n",
    "                \n",
    "        def get_laptop_from_id(self,laptop_id):\n",
    "            for row in self.rows:\n",
    "                if row[0]==laptop_id:\n",
    "                    return(row)\n",
    "            return None\n",
    "                \n",
    "        def check_promotion_dollars(self,dollars):\n",
    "            for each in self.rows:\n",
    "                if each[-1]==dollars:\n",
    "                    return True\n",
    "            for i in range(len(self.rows)):\n",
    "                for j in range(i,len(self.rows)):\n",
    "                    if self.rows[i][-1]+self.rows[j][-1] == dollars:\n",
    "                        return True\n",
    "            return False\n",
    "        def check_promotion_dollars_fast(self,dollars):\n",
    "            if dollars in self.prices:\n",
    "                return True\n",
    "            for i in self.prices:\n",
    "                j = dollars - i\n",
    "                if j in self.prices:\n",
    "                    return True\n",
    "            return False\n",
    "        \n",
    "        def find_first_laptop_more_expensive(self,target_price):\n",
    "            range_start = 0                                   \n",
    "            range_end = len(self.rows_by_price) - 1                       \n",
    "            while range_start < range_end:\n",
    "                range_middle = (range_end + range_start) // 2  \n",
    "                price = self.rows_by_price[range_middle][-1]\n",
    "                if price == target_price:\n",
    "                    firstexpensive = range_middle+1\n",
    "                    return firstexpensive                       \n",
    "                elif price < target_price:                           \n",
    "                    range_start = range_middle + 1             \n",
    "                else:                                          \n",
    "                    range_end = range_middle - 1 \n",
    "            price = self.rows_by_price[range_start][-1]\n",
    "            if price != target_price:\n",
    "                return -1                                      \n",
    "            return range_start+1\n",
    "        \n",
    "        def find_laptop_range(self,minprice,maxprice):\n",
    "            range_start = 0                                   \n",
    "            range_end = len(self.rows_by_price) - 1                       \n",
    "            while range_start < range_end:\n",
    "                range_middle = (range_end + range_start) // 2  \n",
    "                price = self.rows_by_price[range_middle][-1]\n",
    "                if price == maxprice:                            \n",
    "                    topend=range_middle                       \n",
    "                elif price < maxprice:                           \n",
    "                    range_start = range_middle + 1             \n",
    "                else:                                          \n",
    "                    range_end = range_middle - 1 \n",
    "            price = self.rows_by_price[range_start][-1]\n",
    "            if price != maxprice:\n",
    "                return(\"Max price out of range\")\n",
    "            topend=range_start\n",
    "\n",
    "            range_start = 0                                   \n",
    "            range_end = topend\n",
    "            while range_start < range_end:\n",
    "                range_middle = (range_end + range_start) // 2  \n",
    "                price = self.rows_by_price[range_middle][-1]\n",
    "                if price == minprice:                            \n",
    "                    bottomend=range_middle                       \n",
    "                elif price < minprice:                           \n",
    "                    range_start = range_middle + 1             \n",
    "                else:                                          \n",
    "                    range_end = range_middle - 1 \n",
    "            price = self.rows_by_price[range_start][-1]\n",
    "            if price != minprice:\n",
    "                return(\"Min price out of range\")\n",
    "            bottomend=range_start\n",
    "\n",
    "            for each in self.rows_by_price[bottomend:topend]:\n",
    "                print(each)\n",
    "                print(bottomend)\n",
    "                print(topend)\n",
    "            \n",
    "            \n",
    "        "
   ]
  },
  {
   "cell_type": "code",
   "execution_count": 23,
   "metadata": {},
   "outputs": [
    {
     "name": "stdout",
     "output_type": "stream",
     "text": [
      "683\n"
     ]
    }
   ],
   "source": [
    "laptops = inventory('laptops.csv')\n",
    "print(laptops.find_first_laptop_more_expensive(1000))"
   ]
  },
  {
   "cell_type": "code",
   "execution_count": 34,
   "metadata": {},
   "outputs": [
    {
     "ename": "TypeError",
     "evalue": "inventory.find_laptop_range() missing 1 required positional argument: 'maxprice'",
     "output_type": "error",
     "traceback": [
      "\u001b[0;31m---------------------------------------------------------------------------\u001b[0m",
      "\u001b[0;31mTypeError\u001b[0m                                 Traceback (most recent call last)",
      "Cell \u001b[0;32mIn[34], line 1\u001b[0m\n\u001b[0;32m----> 1\u001b[0m \u001b[39mprint\u001b[39m(laptops\u001b[39m.\u001b[39;49mfind_laptop_range(\u001b[39m500\u001b[39;49m))\n",
      "\u001b[0;31mTypeError\u001b[0m: inventory.find_laptop_range() missing 1 required positional argument: 'maxprice'"
     ]
    }
   ],
   "source": [
    "print(laptops.find_laptop_range(500))\n"
   ]
  },
  {
   "cell_type": "code",
   "execution_count": 26,
   "metadata": {},
   "outputs": [
    {
     "name": "stdout",
     "output_type": "stream",
     "text": [
      "246\n"
     ]
    }
   ],
   "source": [
    "print(laptops.find_first_laptop_more_expensive(500))"
   ]
  },
  {
   "cell_type": "code",
   "execution_count": null,
   "metadata": {},
   "outputs": [],
   "source": []
  }
 ],
 "metadata": {
  "kernelspec": {
   "display_name": "Python 3",
   "language": "python",
   "name": "python3"
  },
  "language_info": {
   "codemirror_mode": {
    "name": "ipython",
    "version": 3
   },
   "file_extension": ".py",
   "mimetype": "text/x-python",
   "name": "python",
   "nbconvert_exporter": "python",
   "pygments_lexer": "ipython3",
   "version": "3.11.1"
  }
 },
 "nbformat": 4,
 "nbformat_minor": 2
}
