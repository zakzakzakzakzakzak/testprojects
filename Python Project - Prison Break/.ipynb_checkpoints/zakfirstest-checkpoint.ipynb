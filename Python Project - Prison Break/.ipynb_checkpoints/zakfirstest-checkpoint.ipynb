{
 "cells": [
  {
   "cell_type": "markdown",
   "metadata": {},
   "source": [
    "# Analyzing data"
   ]
  },
  {
   "cell_type": "raw",
   "metadata": {},
   "source": [
    "## Prison Helicopter Escapes"
   ]
  },
  {
   "cell_type": "markdown",
   "metadata": {},
   "source": [
    "We begin by importing some helper functions"
   ]
  },
  {
   "cell_type": "code",
   "execution_count": 17,
   "metadata": {},
   "outputs": [],
   "source": [
    "from helper import *"
   ]
  },
  {
   "cell_type": "markdown",
   "metadata": {},
   "source": [
    "## Get the data"
   ]
  },
  {
   "cell_type": "markdown",
   "metadata": {},
   "source": [
    "Now lets get the data from the [list of helicopter escapes]"
   ]
  },
  {
   "cell_type": "code",
   "execution_count": 18,
   "metadata": {},
   "outputs": [],
   "source": [
    "url = 'https://en.wikipedia.org/wiki/List_of_helicopter_prison_escapes'"
   ]
  },
  {
   "cell_type": "code",
   "execution_count": 50,
   "metadata": {},
   "outputs": [],
   "source": [
    "data = data_from_url(url)"
   ]
  },
  {
   "cell_type": "markdown",
   "metadata": {},
   "source": [
    "We begin by importing some helper functions and the extracting the data out of the wiki url using the data from url function"
   ]
  },
  {
   "cell_type": "markdown",
   "metadata": {},
   "source": [
    "Lets print first three rows"
   ]
  },
  {
   "cell_type": "code",
   "execution_count": 51,
   "metadata": {},
   "outputs": [
    {
     "name": "stdout",
     "output_type": "stream",
     "text": [
      "[['August 19, 1971', 'Santa Martha Acatitla', 'Mexico', 'Yes', 'Joel David Kaplan Carlos Antonio Contreras Castro', \"Joel David Kaplan was a New York businessman who had been arrested for murder in 1962 in Mexico City and was incarcerated at the Santa Martha Acatitla prison in the Iztapalapa borough of Mexico City. Joel's sister, Judy Kaplan, arranged the means to help Kaplan escape, and on August 19, 1971, a helicopter landed in the prison yard. The guards mistakenly thought this was an official visit. In two minutes, Kaplan and his cellmate Carlos Antonio Contreras, a Venezuelan counterfeiter, were able to board the craft and were piloted away, before any shots were fired.[9] Both men were flown to Texas and then different planes flew Kaplan to California and Contreras to Guatemala.[3] The Mexican government never initiated extradition proceedings against Kaplan.[9] The escape is told in a book, The 10-Second Jailbreak: The Helicopter Escape of Joel David Kaplan.[4] It also inspired the 1975 action movie Breakout, which starred Charles Bronson and Robert Duvall.[9]\"], ['October 31, 1973', 'Mountjoy Jail', 'Ireland', 'Yes', \"JB O'Hagan Seamus TwomeyKevin Mallon\", 'On October 31, 1973, an IRA member hijacked a helicopter and forced the pilot to land in the exercise yard of Dublin\\'s Mountjoy Jail\\'s D Wing at 3:40\\xa0p.m., October 31, 1973. Three members of the IRA were able to escape: JB O\\'Hagan, Seamus Twomey and Kevin Mallon. Another prisoner who also was in the prison was quoted as saying, \"One shamefaced screw apologised to the governor and said he thought it was the new Minister for Defence (Paddy Donegan) arriving. I told him it was our Minister of Defence leaving.\" The Mountjoy helicopter escape became Republican lore and was immortalized by \"The Helicopter Song\", which contains the lines \"It\\'s up like a bird and over the city. There\\'s three men a\\'missing I heard the warder say\".[1]'], ['May 24, 1978', 'United States Penitentiary, Marion', 'United States', 'No', 'Garrett Brock TrapnellMartin Joseph McNallyJames Kenneth Johnson', \"43-year-old Barbara Ann Oswald hijacked a Saint Louis-based charter helicopter and forced the pilot to land in the yard at USP Marion. While landing the aircraft, the pilot, Allen Barklage, who was a Vietnam War veteran, struggled with Oswald and managed to wrestle the gun away from her. Barklage then shot and killed Oswald, thwarting the escape.[10] A few months later Oswald's daughter hijacked TWA Flight 541 in an effort to free Trapnell.\"]]\n"
     ]
    }
   ],
   "source": [
    "escapes = []\n",
    "for event in data[:3]:\n",
    "    heli_escape = event\n",
    "    escapes.append(heli_escape)\n",
    "print(escapes)\n",
    "    "
   ]
  },
  {
   "cell_type": "markdown",
   "metadata": {},
   "source": [
    "## Trim date down to remove 'Details' section"
   ]
  },
  {
   "cell_type": "code",
   "execution_count": 52,
   "metadata": {},
   "outputs": [
    {
     "name": "stdout",
     "output_type": "stream",
     "text": [
      "[['August 19, 1971', 'Santa Martha Acatitla', 'Mexico', 'Yes', 'Joel David Kaplan Carlos Antonio Contreras Castro'], ['October 31, 1973', 'Mountjoy Jail', 'Ireland', 'Yes', \"JB O'Hagan Seamus TwomeyKevin Mallon\"], ['May 24, 1978', 'United States Penitentiary, Marion', 'United States', 'No', 'Garrett Brock TrapnellMartin Joseph McNallyJames Kenneth Johnson'], ['February 27, 1981', 'Fleury-Mérogis, Essonne, Ile de France', 'France', 'Yes', 'Gérard DupréDaniel Beaumont'], ['May 7, 1981', 'Orsainville Prison, Quebec City', 'Canada', 'No', 'Marina Paquet (hijacker)Giles Arseneault (prisoner)'], ['January, 1983', 'Pentridge (HM Prison)', 'Australia', 'No', 'David McMillan'], ['December 19, 1985', 'Perry Correctional Institution, Pelzer, South Carolina', 'United States', 'Yes', 'James Rodney LeonardWilliam Douglas BallewJesse Glenn Smith'], ['December 31, 1985', 'Cândido Mendes penitentiary, Ilha Grande, Rio de Janeiro', 'Brazil', 'Yes', 'José Carlos dos Reis Encina, a.k.a. \"Escadinha\"'], ['May 26, 1986', 'Prison de la Santé', 'France', 'Yes', 'Michel Vaujour'], ['November 5, 1986', 'Federal Correctional Institution, Dublin', 'United States', 'Yes', 'Samantha Lopez'], ['November 23, 1986', 'Prigione di Rebibbia, Roma', 'Italy', 'Yes', 'André BellaïcheGianluigi EspositoLuciano Cipollari'], ['December 10, 1987', 'Gartree (HM Prison)', 'United Kingdom', 'Yes', 'Sydney DraperJohn Kendall'], ['July 11, 1988', 'Santa Fe prison', 'United States', 'Yes', 'Mahoney Danny Francis MitchellRandy Lackey'], ['April 17, 1989', 'Federal Holding Facility, Miami, FL', 'United States', 'No', 'Ben Kramer'], ['August 19, 1989', 'Arkansas Valley Correctional Facility', 'United States', 'Yes', 'Ralph BrownFreddie Gonzales'], ['June 19, 1990', 'Kent Penitentiary, British Columbia', 'Canada', 'Yes', 'Robert FordDavid Thomas'], ['April 7, 1991', 'Rio Piedras State Penitentiary, Puerto Rico', 'Puerto Rico', 'Yes', 'William Lane'], ['February 24, 1992', 'Lyon Prison', 'France', 'Yes', '—'], ['December 1992', 'Touraine Central Prison, Tours', 'France', 'No', '—'], ['June 17, 1993', 'Touraine Central Prison, Tours', 'France', 'No', 'Michel Vaujour'], ['December 30, 1996', 'High Security Prison, Santiago', 'Chile', 'Yes', 'Four members of the Manuel Rodriguez Patriotic Front'], ['September 18, 1997', 'De Geerhorst jail', 'Netherlands', 'No', '—'], ['March 25, 1999', 'Metropolitan Remand and Reception Centre', 'Australia', 'Yes', 'John Killick'], ['June 5, 2000', 'Martin Treatment Center for Sexually Violent Predators, Martin County Florida', 'United States', 'Yes', 'Steven Whitsett'], ['December 13, 2000', 'Lyon prison', 'France', 'Yes', '—'], ['January 19, 2001', 'Luynes prison', 'France', 'Yes', 'Pascal Payet'], ['March 24, 2001', 'Draguignan prison', 'France', 'Yes', 'Abdelhamid CarnousEmile Forma-SariJean-Philippe Lecase'], ['May 28, 2001', 'Fresnes prison', 'France', 'No', '—'], ['January 17, 2002', 'Parada Neto Penitentiary', 'Brazil', 'Yes', '—'], ['December 30, 2002', 'Las Cucharas prison, Puerto Rico', 'United States', 'Yes', 'Orlando Cartagena Jose Rodriguez Victor Diaz Hector Diaz Jose Tapia'], ['April 4, 2003', 'Luynes prison', 'France', 'Yes', 'Eric AlboreoFranck PerlettoMichel Valero'], ['July 2005', 'France', 'France', 'No', '—'], ['December 10, 2005', 'Aiton Prison', 'France', 'Yes', 'Hubert SellesJean-Claude MorettiMohamed Bessame'], ['June 6, 2006', 'Korydallos Prison', 'Greece', 'Yes', 'Vassilis Paleokostas'], ['April 15, 2007', 'Lantin Prison, Liège', 'Belgium', 'Yes', 'Eric Ferdinand'], ['July 15, 2007', 'Grasse prison', 'France', 'Yes', 'Pascal Payet'], ['October 28, 2007', 'Ittre prison', 'Belgium', 'No', 'Nordin Benallal'], ['February 22, 2009', 'Korydallos Prison', 'Greece', 'Yes', 'Vasilis PaleokostasAlket Rizai'], ['April 27, 2009', 'Domenjod Prison, Réunion', 'France', 'Yes', 'Alexin JismyFabrice Michel'], ['July 23, 2009', 'Bruges', 'Belgium', 'Yes', 'Ashraf Sekkaki plus three other criminals'], ['June 25, 2010', 'HM Prison Isle of Wight, Isle of Wight', 'United Kingdom', 'No', 'Brian Lawrence'], ['March 22, 2012', 'Sheksna, Penal colony N17', 'Russia', 'Yes', 'Alexey Shestakov'], ['February 24, 2013', 'Trikala Prison, Trikala', 'Greece', 'No', 'Panagiotis Vlastos'], ['March 17, 2013', 'Saint-Jérôme Detention Facility, Quebec', 'Canada', 'Yes', 'Benjamin Hudon-BarbeauDanny Provençal'], ['June 7, 2014', 'Orsainville Detention Facility, Quebec', 'Canada', 'Yes', 'Yves DenisDenis LefebvreSerge Pomerleau'], ['February 22, 2016', 'Thiva', 'Greece', 'No', 'Pola RoupaNikos Maziotis'], ['July 1, 2018', 'Réau, near Paris', 'France', 'Yes', 'Rédoine Faïd'], ['September 25, 2020', 'Forest prison, Brussels', 'Belgium', 'No', 'Kristel A.']]\n"
     ]
    }
   ],
   "source": [
    "index = []\n",
    "for row in data:\n",
    "    event_dscrptn = row[:-1]\n",
    "    index.append(event_dscrptn)\n",
    "    \n",
    "print(index)"
   ]
  },
  {
   "cell_type": "markdown",
   "metadata": {},
   "source": [
    "## Simplify the data down to year only"
   ]
  },
  {
   "cell_type": "code",
   "execution_count": 53,
   "metadata": {},
   "outputs": [
    {
     "name": "stdout",
     "output_type": "stream",
     "text": [
      "[[1971, 'Santa Martha Acatitla', 'Mexico', 'Yes', 'Joel David Kaplan Carlos Antonio Contreras Castro'], [1973, 'Mountjoy Jail', 'Ireland', 'Yes', \"JB O'Hagan Seamus TwomeyKevin Mallon\"], [1978, 'United States Penitentiary, Marion', 'United States', 'No', 'Garrett Brock TrapnellMartin Joseph McNallyJames Kenneth Johnson'], [1981, 'Fleury-Mérogis, Essonne, Ile de France', 'France', 'Yes', 'Gérard DupréDaniel Beaumont'], [1981, 'Orsainville Prison, Quebec City', 'Canada', 'No', 'Marina Paquet (hijacker)Giles Arseneault (prisoner)'], [1983, 'Pentridge (HM Prison)', 'Australia', 'No', 'David McMillan'], [1985, 'Perry Correctional Institution, Pelzer, South Carolina', 'United States', 'Yes', 'James Rodney LeonardWilliam Douglas BallewJesse Glenn Smith'], [1985, 'Cândido Mendes penitentiary, Ilha Grande, Rio de Janeiro', 'Brazil', 'Yes', 'José Carlos dos Reis Encina, a.k.a. \"Escadinha\"'], [1986, 'Prison de la Santé', 'France', 'Yes', 'Michel Vaujour'], [1986, 'Federal Correctional Institution, Dublin', 'United States', 'Yes', 'Samantha Lopez'], [1986, 'Prigione di Rebibbia, Roma', 'Italy', 'Yes', 'André BellaïcheGianluigi EspositoLuciano Cipollari'], [1987, 'Gartree (HM Prison)', 'United Kingdom', 'Yes', 'Sydney DraperJohn Kendall'], [1988, 'Santa Fe prison', 'United States', 'Yes', 'Mahoney Danny Francis MitchellRandy Lackey'], [1989, 'Federal Holding Facility, Miami, FL', 'United States', 'No', 'Ben Kramer'], [1989, 'Arkansas Valley Correctional Facility', 'United States', 'Yes', 'Ralph BrownFreddie Gonzales'], [1990, 'Kent Penitentiary, British Columbia', 'Canada', 'Yes', 'Robert FordDavid Thomas'], [1991, 'Rio Piedras State Penitentiary, Puerto Rico', 'Puerto Rico', 'Yes', 'William Lane'], [1992, 'Lyon Prison', 'France', 'Yes', '—'], [1992, 'Touraine Central Prison, Tours', 'France', 'No', '—'], [1993, 'Touraine Central Prison, Tours', 'France', 'No', 'Michel Vaujour'], [1996, 'High Security Prison, Santiago', 'Chile', 'Yes', 'Four members of the Manuel Rodriguez Patriotic Front'], [1997, 'De Geerhorst jail', 'Netherlands', 'No', '—'], [1999, 'Metropolitan Remand and Reception Centre', 'Australia', 'Yes', 'John Killick'], [2000, 'Martin Treatment Center for Sexually Violent Predators, Martin County Florida', 'United States', 'Yes', 'Steven Whitsett'], [2000, 'Lyon prison', 'France', 'Yes', '—'], [2001, 'Luynes prison', 'France', 'Yes', 'Pascal Payet'], [2001, 'Draguignan prison', 'France', 'Yes', 'Abdelhamid CarnousEmile Forma-SariJean-Philippe Lecase'], [2001, 'Fresnes prison', 'France', 'No', '—'], [2002, 'Parada Neto Penitentiary', 'Brazil', 'Yes', '—'], [2002, 'Las Cucharas prison, Puerto Rico', 'United States', 'Yes', 'Orlando Cartagena Jose Rodriguez Victor Diaz Hector Diaz Jose Tapia'], [2003, 'Luynes prison', 'France', 'Yes', 'Eric AlboreoFranck PerlettoMichel Valero'], [2005, 'France', 'France', 'No', '—'], [2005, 'Aiton Prison', 'France', 'Yes', 'Hubert SellesJean-Claude MorettiMohamed Bessame'], [2006, 'Korydallos Prison', 'Greece', 'Yes', 'Vassilis Paleokostas'], [2007, 'Lantin Prison, Liège', 'Belgium', 'Yes', 'Eric Ferdinand'], [2007, 'Grasse prison', 'France', 'Yes', 'Pascal Payet'], [2007, 'Ittre prison', 'Belgium', 'No', 'Nordin Benallal'], [2009, 'Korydallos Prison', 'Greece', 'Yes', 'Vasilis PaleokostasAlket Rizai'], [2009, 'Domenjod Prison, Réunion', 'France', 'Yes', 'Alexin JismyFabrice Michel'], [2009, 'Bruges', 'Belgium', 'Yes', 'Ashraf Sekkaki plus three other criminals'], [2010, 'HM Prison Isle of Wight, Isle of Wight', 'United Kingdom', 'No', 'Brian Lawrence'], [2012, 'Sheksna, Penal colony N17', 'Russia', 'Yes', 'Alexey Shestakov'], [2013, 'Trikala Prison, Trikala', 'Greece', 'No', 'Panagiotis Vlastos'], [2013, 'Saint-Jérôme Detention Facility, Quebec', 'Canada', 'Yes', 'Benjamin Hudon-BarbeauDanny Provençal'], [2014, 'Orsainville Detention Facility, Quebec', 'Canada', 'Yes', 'Yves DenisDenis LefebvreSerge Pomerleau'], [2016, 'Thiva', 'Greece', 'No', 'Pola RoupaNikos Maziotis'], [2018, 'Réau, near Paris', 'France', 'Yes', 'Rédoine Faïd'], [2020, 'Forest prison, Brussels', 'Belgium', 'No', 'Kristel A.']]\n"
     ]
    }
   ],
   "source": [
    "for row in index:\n",
    "    row[0] = fetch_year(row[0])\n",
    "print(index)"
   ]
  },
  {
   "cell_type": "code",
   "execution_count": 54,
   "metadata": {},
   "outputs": [
    {
     "name": "stdout",
     "output_type": "stream",
     "text": [
      "1971\n",
      "2020\n",
      "[1971, 1972, 1973, 1974, 1975, 1976, 1977, 1978, 1979, 1980, 1981, 1982, 1983, 1984, 1985, 1986, 1987, 1988, 1989, 1990, 1991, 1992, 1993, 1994, 1995, 1996, 1997, 1998, 1999, 2000, 2001, 2002, 2003, 2004, 2005, 2006, 2007, 2008, 2009, 2010, 2011, 2012, 2013, 2014, 2015, 2016, 2017, 2018, 2019, 2020]\n"
     ]
    }
   ],
   "source": [
    "min_year = min(index, key=lambda x: x[0])[0]\n",
    "max_year = max(index, key=lambda x: x[0])[0]\n",
    "print(min_year)\n",
    "print(max_year)\n",
    "years = []\n",
    "for year in range(min_year,max_year+1):\n",
    "    years.append(year)\n",
    "print(years)\n"
   ]
  },
  {
   "cell_type": "code",
   "execution_count": 55,
   "metadata": {},
   "outputs": [
    {
     "name": "stdout",
     "output_type": "stream",
     "text": [
      "[1971, 1973, 1978, 1981, 1981, 1983, 1985, 1985, 1986, 1986, 1986, 1987, 1988, 1989, 1989, 1990, 1991, 1992, 1992, 1993, 1996, 1997, 1999, 2000, 2000, 2001, 2001, 2001, 2002, 2002, 2003, 2005, 2005, 2006, 2007, 2007, 2007, 2009, 2009, 2009, 2010, 2012, 2013, 2013, 2014, 2016, 2018, 2020]\n"
     ]
    }
   ],
   "source": [
    "list_of_years=[]\n",
    "for each in index:\n",
    "    data = each[0]\n",
    "    list_of_years.append(data)\n",
    "print(list_of_years)\n",
    "    "
   ]
  },
  {
   "cell_type": "code",
   "execution_count": 59,
   "metadata": {},
   "outputs": [
    {
     "name": "stdout",
     "output_type": "stream",
     "text": [
      "[1, 0, 1, 0, 0, 0, 0, 1, 0, 0, 2, 0, 1, 0, 2, 3, 1, 1, 2, 1, 1, 2, 1, 0, 0, 1, 1, 0, 1, 2, 3, 2, 1, 0, 2, 1, 3, 0, 3, 1, 0, 1, 2, 1, 0, 1, 0, 1, 0, 1]\n"
     ]
    }
   ],
   "source": [
    "no_of_escapes=[]\n",
    "list_of_escapes=[]\n",
    "for year in years:\n",
    "    escape_year = year\n",
    "    for each in list_of_years:\n",
    "        if escape_year == each:\n",
    "            no_of_escapes.append(1)\n",
    "    total_escapes = sum(no_of_escapes)\n",
    "    list_of_escapes.append(total_escapes)\n",
    "    no_of_escapes =[]\n",
    "attempts = list_of_years + list_of_escapes\n",
    "print(list_of_escapes) "
   ]
  },
  {
   "cell_type": "code",
   "execution_count": 60,
   "metadata": {},
   "outputs": [
    {
     "name": "stdout",
     "output_type": "stream",
     "text": [
      "[(1971, 1), (1972, 0), (1973, 1), (1974, 0), (1975, 0), (1976, 0), (1977, 0), (1978, 1), (1979, 0), (1980, 0), (1981, 2), (1982, 0), (1983, 1), (1984, 0), (1985, 2), (1986, 3), (1987, 1), (1988, 1), (1989, 2), (1990, 1), (1991, 1), (1992, 2), (1993, 1), (1994, 0), (1995, 0), (1996, 1), (1997, 1), (1998, 0), (1999, 1), (2000, 2), (2001, 3), (2002, 2), (2003, 1), (2004, 0), (2005, 2), (2006, 1), (2007, 3), (2008, 0), (2009, 3), (2010, 1), (2011, 0), (2012, 1), (2013, 2), (2014, 1), (2015, 0), (2016, 1), (2017, 0), (2018, 1), (2019, 0), (2020, 1)]\n"
     ]
    }
   ],
   "source": [
    "finallist=[]\n",
    "for i in range(0,50):\n",
    "    combinedlist = years[i],list_of_escapes[i]\n",
    "    finallist.append(combinedlist)\n",
    "print(finallist)\n",
    "    "
   ]
  },
  {
   "cell_type": "code",
   "execution_count": 62,
   "metadata": {},
   "outputs": [
    {
     "name": "stdout",
     "output_type": "stream",
     "text": [
      "(1986, 3)\n"
     ]
    }
   ],
   "source": [
    "max_count = max(finallist, key=lambda x: x[1])\n",
    "print(max_count)"
   ]
  },
  {
   "cell_type": "markdown",
   "metadata": {},
   "source": [
    "## Above I leapt ahead and created a new list showing each year and hw many attempts there were that year. Below I am now following the subsequent pages instructions to do exactly the same thing but probably in a much easier way!"
   ]
  },
  {
   "cell_type": "code",
   "execution_count": 70,
   "metadata": {},
   "outputs": [
    {
     "name": "stdout",
     "output_type": "stream",
     "text": [
      "[(1971, 0), (1972, 0), (1973, 0), (1974, 0), (1975, 0), (1976, 0), (1977, 0), (1978, 0), (1979, 0), (1980, 0), (1981, 0), (1982, 0), (1983, 0), (1984, 0), (1985, 0), (1986, 0), (1987, 0), (1988, 0), (1989, 0), (1990, 0), (1991, 0), (1992, 0), (1993, 0), (1994, 0), (1995, 0), (1996, 0), (1997, 0), (1998, 0), (1999, 0), (2000, 0), (2001, 0), (2002, 0), (2003, 0), (2004, 0), (2005, 0), (2006, 0), (2007, 0), (2008, 0), (2009, 0), (2010, 0), (2011, 0), (2012, 0), (2013, 0), (2014, 0), (2015, 0), (2016, 0), (2017, 0), (2018, 0), (2019, 0), (2020, 0)]\n"
     ]
    }
   ],
   "source": [
    "finallist2=[]\n",
    "for i in range(0,50):\n",
    "    list2 = years[i],0\n",
    "    finallist2.append(list2)\n",
    "print(finallist2)\n"
   ]
  },
  {
   "cell_type": "raw",
   "metadata": {},
   "source": []
  },
  {
   "cell_type": "code",
   "execution_count": 77,
   "metadata": {},
   "outputs": [
    {
     "ename": "TypeError",
     "evalue": "can only concatenate tuple (not \"int\") to tuple",
     "output_type": "error",
     "traceback": [
      "\u001b[0;31m---------------------------------------------------------------------------\u001b[0m",
      "\u001b[0;31mTypeError\u001b[0m                                 Traceback (most recent call last)",
      "\u001b[0;32m<ipython-input-77-604ede9971e9>\u001b[0m in \u001b[0;36m<module>\u001b[0;34m\u001b[0m\n\u001b[1;32m      1\u001b[0m \u001b[0;32mfor\u001b[0m \u001b[0mtrial\u001b[0m \u001b[0;32min\u001b[0m \u001b[0mfinallist2\u001b[0m\u001b[0;34m:\u001b[0m\u001b[0;34m\u001b[0m\u001b[0;34m\u001b[0m\u001b[0m\n\u001b[1;32m      2\u001b[0m     \u001b[0;32mif\u001b[0m \u001b[0mtrial\u001b[0m\u001b[0;34m[\u001b[0m\u001b[0;36m0\u001b[0m\u001b[0;34m]\u001b[0m\u001b[0;34m==\u001b[0m\u001b[0;36m1972\u001b[0m\u001b[0;34m:\u001b[0m\u001b[0;34m\u001b[0m\u001b[0;34m\u001b[0m\u001b[0m\n\u001b[0;32m----> 3\u001b[0;31m         \u001b[0mfinallist2\u001b[0m\u001b[0;34m[\u001b[0m\u001b[0;36m1\u001b[0m\u001b[0;34m]\u001b[0m \u001b[0;34m+=\u001b[0m\u001b[0;36m1\u001b[0m\u001b[0;34m\u001b[0m\u001b[0;34m\u001b[0m\u001b[0m\n\u001b[0m\u001b[1;32m      4\u001b[0m \u001b[0mprint\u001b[0m\u001b[0;34m(\u001b[0m\u001b[0mfinallist2\u001b[0m\u001b[0;34m)\u001b[0m\u001b[0;34m\u001b[0m\u001b[0;34m\u001b[0m\u001b[0m\n",
      "\u001b[0;31mTypeError\u001b[0m: can only concatenate tuple (not \"int\") to tuple"
     ]
    }
   ],
   "source": [
    "for trial in finallist2:\n",
    "    if trial[0]==1972:\n",
    "        finallist2[1] +=1\n",
    "print(finallist2)"
   ]
  },
  {
   "cell_type": "code",
   "execution_count": null,
   "metadata": {},
   "outputs": [],
   "source": []
  },
  {
   "cell_type": "code",
   "execution_count": null,
   "metadata": {},
   "outputs": [],
   "source": []
  }
 ],
 "metadata": {
  "kernelspec": {
   "display_name": "Python 3",
   "language": "python",
   "name": "python3"
  },
  "language_info": {
   "codemirror_mode": {
    "name": "ipython",
    "version": 3
   },
   "file_extension": ".py",
   "mimetype": "text/x-python",
   "name": "python",
   "nbconvert_exporter": "python",
   "pygments_lexer": "ipython3",
   "version": "3.8.2"
  }
 },
 "nbformat": 4,
 "nbformat_minor": 2
}
