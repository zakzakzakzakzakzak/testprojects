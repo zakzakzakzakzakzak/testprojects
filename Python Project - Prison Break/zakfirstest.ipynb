{
 "cells": [
  {
   "cell_type": "markdown",
   "metadata": {},
   "source": [
    "# Analyzing data"
   ]
  },
  {
   "cell_type": "raw",
   "metadata": {},
   "source": [
    "## Prison Helicopter Escapes"
   ]
  },
  {
   "cell_type": "markdown",
   "metadata": {},
   "source": [
    "We begin by importing some helper functions"
   ]
  },
  {
   "cell_type": "code",
   "execution_count": null,
   "metadata": {},
   "outputs": [],
   "source": [
    "from helper import *"
   ]
  },
  {
   "cell_type": "markdown",
   "metadata": {},
   "source": [
    "## Get the data"
   ]
  },
  {
   "cell_type": "markdown",
   "metadata": {},
   "source": [
    "Now lets get the data from the [list of helicopter escapes]"
   ]
  },
  {
   "cell_type": "code",
   "execution_count": null,
   "metadata": {},
   "outputs": [],
   "source": [
    "url = 'https://en.wikipedia.org/wiki/List_of_helicopter_prison_escapes'"
   ]
  },
  {
   "cell_type": "code",
   "execution_count": null,
   "metadata": {},
   "outputs": [],
   "source": [
    "data = data_from_url(url)"
   ]
  },
  {
   "cell_type": "markdown",
   "metadata": {},
   "source": [
    "We begin by importing some helper functions and the extracting the data out of the wiki url using the data from url function"
   ]
  },
  {
   "cell_type": "markdown",
   "metadata": {},
   "source": [
    "Lets print first three rows"
   ]
  },
  {
   "cell_type": "code",
   "execution_count": null,
   "metadata": {},
   "outputs": [],
   "source": [
    "escapes = []\n",
    "for event in data[:3]:\n",
    "    heli_escape = event\n",
    "    escapes.append(heli_escape)\n",
    "print(escapes)\n",
    "    "
   ]
  },
  {
   "cell_type": "markdown",
   "metadata": {},
   "source": [
    "## Trim date down to remove 'Details' section"
   ]
  },
  {
   "cell_type": "code",
   "execution_count": null,
   "metadata": {},
   "outputs": [],
   "source": [
    "index = []\n",
    "for row in data:\n",
    "    event_dscrptn = row[:-1]\n",
    "    index.append(event_dscrptn)\n",
    "    \n",
    "print(index)"
   ]
  },
  {
   "cell_type": "markdown",
   "metadata": {},
   "source": [
    "## Simplify the data down to year only"
   ]
  },
  {
   "cell_type": "code",
   "execution_count": null,
   "metadata": {},
   "outputs": [],
   "source": [
    "for row in index:\n",
    "    row[0] = fetch_year(row[0])\n",
    "print(index)"
   ]
  },
  {
   "cell_type": "code",
   "execution_count": null,
   "metadata": {},
   "outputs": [],
   "source": [
    "min_year = min(index, key=lambda x: x[0])[0]\n",
    "max_year = max(index, key=lambda x: x[0])[0]\n",
    "print(min_year)\n",
    "print(max_year)\n",
    "years = []\n",
    "for year in range(min_year,max_year+1):\n",
    "    years.append(year)\n",
    "print(years)\n"
   ]
  },
  {
   "cell_type": "code",
   "execution_count": null,
   "metadata": {},
   "outputs": [],
   "source": [
    "list_of_years=[]\n",
    "for each in index:\n",
    "    data = each[0]\n",
    "    list_of_years.append(data)\n",
    "print(list_of_years)\n",
    "    "
   ]
  },
  {
   "cell_type": "code",
   "execution_count": null,
   "metadata": {},
   "outputs": [],
   "source": [
    "no_of_escapes=[]\n",
    "list_of_escapes=[]\n",
    "for year in years:\n",
    "    escape_year = year\n",
    "    for each in list_of_years:\n",
    "        if escape_year == each:\n",
    "            no_of_escapes.append(1)\n",
    "    total_escapes = sum(no_of_escapes)\n",
    "    list_of_escapes.append(total_escapes)\n",
    "    no_of_escapes =[]\n",
    "attempts = list_of_years + list_of_escapes\n",
    "print(list_of_escapes) "
   ]
  },
  {
   "cell_type": "code",
   "execution_count": null,
   "metadata": {},
   "outputs": [],
   "source": [
    "finallist=[]\n",
    "for i in range(0,50):\n",
    "    combinedlist = years[i],list_of_escapes[i]\n",
    "    finallist.append(combinedlist)\n",
    "print(finallist)\n",
    "    "
   ]
  },
  {
   "cell_type": "code",
   "execution_count": null,
   "metadata": {},
   "outputs": [],
   "source": [
    "max_count = max(finallist, key=lambda x: x[1])\n",
    "print(max_count)"
   ]
  },
  {
   "cell_type": "markdown",
   "metadata": {},
   "source": [
    "## Above I leapt ahead and created a new list showing each year and hw many attempts there were that year. Below I am now following the subsequent pages instructions to do exactly the same thing but probably in a much easier way!"
   ]
  },
  {
   "cell_type": "code",
   "execution_count": null,
   "metadata": {},
   "outputs": [],
   "source": [
    "finallist2=[]\n",
    "for i in range(0,50):\n",
    "    list2 = years[i],0.0\n",
    "    finallist2.append(list2)\n",
    "print(finallist2)\n"
   ]
  },
  {
   "cell_type": "raw",
   "metadata": {},
   "source": [
    "for row in data:\n",
    "    for year_attempt in finallist2:\n",
    "        year_attempt[0] = year\n",
    "        if row[0] == year:\n",
    "            year_attempt[1] += 1\n",
    "\n",
    "print(finallist2)"
   ]
  },
  {
   "cell_type": "code",
   "execution_count": null,
   "metadata": {},
   "outputs": [],
   "source": [
    "print('lol')"
   ]
  },
  {
   "cell_type": "code",
   "execution_count": null,
   "metadata": {},
   "outputs": [],
   "source": []
  },
  {
   "cell_type": "code",
   "execution_count": null,
   "metadata": {},
   "outputs": [],
   "source": []
  },
  {
   "cell_type": "code",
   "execution_count": null,
   "metadata": {},
   "outputs": [],
   "source": []
  }
 ],
 "metadata": {
  "kernelspec": {
   "display_name": "Python 3",
   "language": "python",
   "name": "python3"
  },
  "language_info": {
   "codemirror_mode": {
    "name": "ipython",
    "version": 3
   },
   "file_extension": ".py",
   "mimetype": "text/x-python",
   "name": "python",
   "nbconvert_exporter": "python",
   "pygments_lexer": "ipython3",
   "version": "3.8.2"
  }
 },
 "nbformat": 4,
 "nbformat_minor": 2
}
